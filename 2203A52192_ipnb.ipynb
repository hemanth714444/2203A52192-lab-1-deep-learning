{
  "nbformat": 4,
  "nbformat_minor": 0,
  "metadata": {
    "colab": {
      "provenance": [],
      "authorship_tag": "ABX9TyMsvAV0oRQpH4QpQHGgxfud",
      "include_colab_link": true
    },
    "kernelspec": {
      "name": "python3",
      "display_name": "Python 3"
    },
    "language_info": {
      "name": "python"
    }
  },
  "cells": [
    {
      "cell_type": "markdown",
      "metadata": {
        "id": "view-in-github",
        "colab_type": "text"
      },
      "source": [
        "<a href=\"https://colab.research.google.com/github/hemanth714444/2203A52192-lab-1-deep-learning/blob/main/2203A52192_ipnb.ipynb\" target=\"_parent\"><img src=\"https://colab.research.google.com/assets/colab-badge.svg\" alt=\"Open In Colab\"/></a>"
      ]
    },
    {
      "cell_type": "code",
      "execution_count": 1,
      "metadata": {
        "colab": {
          "base_uri": "https://localhost:8080/"
        },
        "id": "wW35wrEYJc5m",
        "outputId": "74d94073-1a05-437e-faf4-5c025244d56c"
      },
      "outputs": [
        {
          "output_type": "stream",
          "name": "stdout",
          "text": [
            "Manual Calculations:\n",
            "MAE: 0.4820, MSE: 0.2656, RMSE: 0.5154\n",
            "\n",
            "Library Results:\n",
            "MAE: 0.4820, MSE: 0.2656, RMSE: 0.5154\n"
          ]
        }
      ],
      "source": [
        "import numpy as np\n",
        "from sklearn.metrics import mean_absolute_error, mean_squared_error\n",
        "\n",
        "Y_actual = np.array([20, 30, 40, 50, 60])\n",
        "Y_pred = np.array([20.5, 30.3, 40.25, 50.66, 60.7])\n",
        "\n",
        "def calculate_metrics(y_true, y_pred):\n",
        "    n = len(y_true)\n",
        "    abs_errors = np.abs(y_true - y_pred)\n",
        "    squared_errors = (y_true - y_pred) ** 2\n",
        "    mae = np.sum(abs_errors) / n\n",
        "    mse = np.sum(squared_errors) / n\n",
        "    rmse = np.sqrt(mse)\n",
        "    return mae, mse, rmse\n",
        "\n",
        "manual_mae, manual_mse, manual_rmse = calculate_metrics(Y_actual, Y_pred)\n",
        "\n",
        "\n",
        "lib_mae = mean_absolute_error(Y_actual, Y_pred)\n",
        "lib_mse = mean_squared_error(Y_actual, Y_pred)\n",
        "lib_rmse = np.sqrt(lib_mse)\n",
        "\n",
        "\n",
        "print(\"Manual Calculations:\")\n",
        "print(f\"MAE: {manual_mae:.4f}, MSE: {manual_mse:.4f}, RMSE: {manual_rmse:.4f}\")\n",
        "\n",
        "print(\"\\nLibrary Results:\")\n",
        "print(f\"MAE: {lib_mae:.4f}, MSE: {lib_mse:.4f}, RMSE: {lib_rmse:.4f}\")\n",
        ""
      ]
    },
    {
      "cell_type": "code",
      "source": [
        "from sklearn.metrics import confusion_matrix, accuracy_score, precision_score, recall_score, f1_score\n",
        "\n",
        "\n",
        "y_actual = [0, 0, 0, 0, 0, 1, 1, 1, 1, 1, 2, 2, 2, 2, 2]\n",
        "y_pred = [0, 0, 1, 2, 2, 1, 0, 2, 0, 2, 0, 0, 1, 2, 2]\n",
        "\n",
        "\n",
        "cm = confusion_matrix(y_actual, y_pred)\n",
        "print(\"Confusion Matrix:\")\n",
        "print(cm)\n",
        "\n",
        "\n",
        "accuracy = accuracy_score(y_actual, y_pred)\n",
        "print(\"\\nAccuracy:\", accuracy)\n",
        "\n",
        "\n",
        "precision = precision_score(y_actual, y_pred, average=None)\n",
        "recall = recall_score(y_actual, y_pred, average=None)\n",
        "f1 = f1_score(y_actual, y_pred, average=None)\n",
        "\n",
        "print(\"Precision:\", precision)\n",
        "print(\"Recall:\", recall)\n",
        "print(\"F1 Score:\", f1)\n",
        "\n",
        "precision_overall = precision_score(y_actual, y_pred, average='macro')\n",
        "recall_overall = recall_score(y_actual, y_pred, average='macro')\n",
        "f1_overall = f1_score(y_actual, y_pred, average='macro')\n",
        "\n",
        "print(\"\\nOverall Precision (Macro):\", precision_overall)\n",
        "print(\"Overall Recall (Macro):\", recall_overall)\n",
        "print(\"Overall F1 Score (Macro):\", f1_overall)"
      ],
      "metadata": {
        "colab": {
          "base_uri": "https://localhost:8080/"
        },
        "id": "AWNUwC5EJpZl",
        "outputId": "5c3fccae-9f2a-4f5d-d5ff-72c69c4d1bfc"
      },
      "execution_count": 2,
      "outputs": [
        {
          "output_type": "stream",
          "name": "stdout",
          "text": [
            "Confusion Matrix:\n",
            "[[2 1 2]\n",
            " [2 1 2]\n",
            " [2 1 2]]\n",
            "\n",
            "Accuracy: 0.3333333333333333\n",
            "Precision: [0.33333333 0.33333333 0.33333333]\n",
            "Recall: [0.4 0.2 0.4]\n",
            "F1 Score: [0.36363636 0.25       0.36363636]\n",
            "\n",
            "Overall Precision (Macro): 0.3333333333333333\n",
            "Overall Recall (Macro): 0.3333333333333333\n",
            "Overall F1 Score (Macro): 0.32575757575757575\n"
          ]
        }
      ]
    }
  ]
}