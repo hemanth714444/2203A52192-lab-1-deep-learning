{
  "nbformat": 4,
  "nbformat_minor": 0,
  "metadata": {
    "colab": {
      "provenance": [],
      "authorship_tag": "ABX9TyPHKxBSa+Oec2UA+2QjYyMb",
      "include_colab_link": true
    },
    "kernelspec": {
      "name": "python3",
      "display_name": "Python 3"
    },
    "language_info": {
      "name": "python"
    }
  },
  "cells": [
    {
      "cell_type": "markdown",
      "metadata": {
        "id": "view-in-github",
        "colab_type": "text"
      },
      "source": [
        "<a href=\"https://colab.research.google.com/github/hemanth714444/2203A52192-lab-1-deep-learning/blob/main/2203A52192.ipynb\" target=\"_parent\"><img src=\"https://colab.research.google.com/assets/colab-badge.svg\" alt=\"Open In Colab\"/></a>"
      ]
    },
    {
      "cell_type": "code",
      "execution_count": 1,
      "metadata": {
        "id": "qeK6VGCTCCuV"
      },
      "outputs": [],
      "source": [
        "import numpy as np\n",
        "\n",
        "def sigmoid(x):\n",
        "    return 1 / (1 + np.exp(-x))\n",
        "\n",
        "def sigmoid_derivative(x):\n",
        "    return x * (1 - x)"
      ]
    },
    {
      "cell_type": "code",
      "source": [
        "def train_ann(X_train, y_train, epochs=1000, learning_rate=0.1):\n",
        "    np.random.seed(42)\n",
        "    weights = np.random.rand(3)\n",
        "    bias = np.random.rand()\n",
        "\n",
        "    for _ in range(epochs):\n",
        "        z = np.dot(X_train, weights) + bias\n",
        "        y_pred = sigmoid(z)\n",
        "        error = y_train - y_pred\n",
        "        d_weights = learning_rate * np.dot(error * sigmoid_derivative(y_pred), X_train)\n",
        "        d_bias = learning_rate * np.sum(error * sigmoid_derivative(y_pred))\n",
        "        weights += d_weights\n",
        "        bias += d_bias\n",
        "\n",
        "    return weights, bias"
      ],
      "metadata": {
        "id": "CFSGvxGpCX7T"
      },
      "execution_count": 2,
      "outputs": []
    },
    {
      "cell_type": "code",
      "source": [
        "def predict(X, weights, bias):\n",
        "    return sigmoid(np.dot(X, weights) + bias)\n",
        "\n",
        "def mse(y_true, y_pred):\n",
        "    return np.mean((y_true - y_pred) ** 2)"
      ],
      "metadata": {
        "id": "dVTy1IO6Cbyy"
      },
      "execution_count": 3,
      "outputs": []
    },
    {
      "cell_type": "code",
      "source": [
        "X_train = np.array([\n",
        "    [0.1, 0.2, 0.3],\n",
        "    [0.2, 0.3, 0.4],\n",
        "    [0.3, 0.4, 0.5],\n",
        "    [0.5, 0.6, 0.7],\n",
        "    [0.1, 0.3, 0.5],\n",
        "    [0.2, 0.4, 0.6],\n",
        "    [0.3, 0.5, 0.7],\n",
        "    [0.4, 0.6, 0.8],\n",
        "    [0.5, 0.7, 0.1]\n",
        "])\n",
        "y_train = np.array([0.5349, 0.5498, 0.5646, 0.5939, 0.5548, 0.5695, 0.5842, 0.5987, 0.5548])\n",
        "\n",
        "weights, bias = train_ann(X_train, y_train)\n",
        "\n",
        "X_test = np.array([\n",
        "    [0.6, 0.7, 0.8],\n",
        "    [0.7, 0.8, 0.9]\n",
        "])\n",
        "y_test = np.array([0.6083, 0.6225])\n",
        "\n",
        "y_pred_train = predict(X_train, weights, bias)\n",
        "y_pred_test = predict(X_test, weights, bias)\n",
        "\n",
        "print(\"MSE on Training Data:\", mse(y_train, y_pred_train))\n",
        "print(\"MSE on Testing Data:\", mse(y_test, y_pred_test))\n",
        "input_samples = np.array([\n",
        "    [0.1, 0.2, 0.3],\n",
        "    [0.2, 0.3, 0.4],\n",
        "    [0.3, 0.4, 0.5],\n",
        "    [0.5, 0.6, 0.7],\n",
        "    [0.1, 0.3, 0.5],\n",
        "    [0.2, 0.4, 0.6],\n",
        "    [0.3, 0.5, 0.7],\n",
        "    [0.4, 0.6, 0.8],\n",
        "    [0.5, 0.7, 0.1]\n",
        "])\n",
        "\n",
        "for sample in input_samples:\n",
        "    print(f\"Input: {sample}, Predicted Output of ANN Model: {predict(sample, weights, bias)}\")"
      ],
      "metadata": {
        "colab": {
          "base_uri": "https://localhost:8080/"
        },
        "id": "7gmm7OpgCfkb",
        "outputId": "8713ca91-584c-4513-90af-5d2bd3fb47eb"
      },
      "execution_count": 4,
      "outputs": [
        {
          "output_type": "stream",
          "name": "stdout",
          "text": [
            "MSE on Training Data: 1.0950729480152149e-05\n",
            "MSE on Testing Data: 7.289121589629698e-06\n",
            "Input: [0.1 0.2 0.3], Predicted Output of ANN Model: 0.5290063711703716\n",
            "Input: [0.2 0.3 0.4], Predicted Output of ANN Model: 0.5455052025452284\n",
            "Input: [0.3 0.4 0.5], Predicted Output of ANN Model: 0.5619047115069384\n",
            "Input: [0.5 0.6 0.7], Predicted Output of ANN Model: 0.594267571750245\n",
            "Input: [0.1 0.3 0.5], Predicted Output of ANN Model: 0.5540648855921403\n",
            "Input: [0.2 0.4 0.6], Predicted Output of ANN Model: 0.5703987711065834\n",
            "Input: [0.3 0.5 0.7], Predicted Output of ANN Model: 0.5865807862381784\n",
            "Input: [0.4 0.6 0.8], Predicted Output of ANN Model: 0.6025779559111705\n",
            "Input: [0.5 0.7 0.1], Predicted Output of ANN Model: 0.5587902208528436\n"
          ]
        }
      ]
    }
  ]
}